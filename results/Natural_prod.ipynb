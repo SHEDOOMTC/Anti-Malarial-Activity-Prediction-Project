{
 "cells": [
  {
   "cell_type": "code",
   "execution_count": 39,
   "id": "0a468e8a",
   "metadata": {},
   "outputs": [],
   "source": [
    "## Load libraries\n",
    "import pandas as pd\n",
    "from rdkit import Chem\n"
   ]
  },
  {
   "cell_type": "code",
   "execution_count": 38,
   "id": "4413d8a2",
   "metadata": {},
   "outputs": [],
   "source": [
    "#### Import Datasets\n",
    "\n",
    "### import dataset from Coconut database\n",
    "coco = pd.read_csv(\"../../coconut_csv-06-2025.csv\", usecols=['identifier', 'canonical_smiles'])\n",
    "\n",
    "## Import dataset from the SuperNaT 3.0 database; then remove the rows where smiles are not available\n",
    "super = pd.read_csv(\"../../full_data_download.csv\", sep=';', usecols=['id', 'smiles'])\n",
    "super = super[super['smiles'].notnull()]\n",
    "\n",
    "## Import dataset from the Argentinan database\n",
    "Argen = pd.read_csv(\"../../NaturAr_query.csv\", usecols=['NatID', 'SMILES'])\n",
    "\n",
    "## import dataset from the Afrodabase; contains data in .smi and need to be converted to a df with the IDS and SMILES only retained\n",
    "file_path = '../../smiles_unique_all.smi'\n",
    "\n",
    "data = []\n",
    "with open(file_path, 'r', encoding='utf-8') as f:\n",
    "    for line in f:\n",
    "        # Split on the first whitespace only\n",
    "        parts = line.strip().split(maxsplit=1)\n",
    "        smiles = parts[0]\n",
    "        name = parts[1] if len(parts) > 1 else ''  # Handle lines with no name\n",
    "        data.append({'SMILES': smiles, 'ID': name})\n",
    "\n",
    "afro = pd.DataFrame(data)\n",
    "afro = afro[['ID', 'SMILES']]\n",
    "\n",
    "\n",
    "## rename all the headers to standardize and then concat the whole dataframe\n",
    "\n",
    "# Example renaming for each DataFrame\n",
    "coco = coco.rename(columns={coco.columns[0]: 'ID', coco.columns[1]: 'SMILES'})\n",
    "super = super.rename(columns={super.columns[0]: 'ID', super.columns[1]: 'SMILES'})\n",
    "Argen = Argen.rename(columns={Argen.columns[0]: 'ID', Argen.columns[1]: 'SMILES'})\n",
    "afro = afro.rename(columns={afro.columns[0]: 'ID', afro.columns[1]: 'SMILES'})\n",
    "\n",
    "\n",
    "## combine the data into single dataframe\n",
    "df = pd.concat([coco, super, Argen, afro], ignore_index=True)\n",
    "\n",
    "\n"
   ]
  },
  {
   "cell_type": "code",
   "execution_count": null,
   "id": "461b0f2a",
   "metadata": {},
   "outputs": [],
   "source": [
    "## we then canonize the smiles, removed all the NAN and duplicates to get a final compound list\n",
    "\n",
    "def canonicalize_smiles(smiles):\n",
    "    mol = Chem.MolFromSmiles(smiles)\n",
    "    if mol is None:\n",
    "        return None  # invalid SMILES, skip\n",
    "    return Chem.MolToSmiles(mol, canonical=True)\n",
    "\n",
    "# Apply canonicalization, skipping invalid SMILES\n",
    "df['Canonical_SMILES'] = df['SMILES'].apply(canonicalize_smiles)\n",
    "\n",
    "# Drop rows where canonicalization failed (None values)\n",
    "filtered_df = df.dropna(subset=['Canonical_SMILES']).copy()\n",
    "\n",
    "# Replace original SMILES with canonical SMILES\n",
    "filtered_df['SMILES'] = filtered_df['Canonical_SMILES']\n",
    "\n",
    "# Remove duplicates based on canonical SMILES\n",
    "final_df = filtered_df.drop_duplicates(subset=['Canonical_SMILES'])\n",
    "\n",
    "# Drop the helper column if you want\n",
    "final_df = final_df.drop(columns=['Canonical_SMILES'])\n",
    "\n",
    "print(final_df)\n"
   ]
  },
  {
   "cell_type": "code",
   "execution_count": 42,
   "id": "9e76f5db",
   "metadata": {},
   "outputs": [
    {
     "name": "stdout",
     "output_type": "stream",
     "text": [
      "saved to Natural_product_cpds.csv\n"
     ]
    }
   ],
   "source": [
    "## then I save the file into a csv\n",
    "final_df.to_csv('../data/Natural_product_cpds.csv', index=False)\n",
    "print('saved to Natural_product_cpds.csv')"
   ]
  },
  {
   "cell_type": "code",
   "execution_count": null,
   "id": "c8678605",
   "metadata": {},
   "outputs": [],
   "source": []
  }
 ],
 "metadata": {
  "kernelspec": {
   "display_name": ".venv",
   "language": "python",
   "name": "python3"
  },
  "language_info": {
   "codemirror_mode": {
    "name": "ipython",
    "version": 3
   },
   "file_extension": ".py",
   "mimetype": "text/x-python",
   "name": "python",
   "nbconvert_exporter": "python",
   "pygments_lexer": "ipython3",
   "version": "3.12.8"
  }
 },
 "nbformat": 4,
 "nbformat_minor": 5
}
