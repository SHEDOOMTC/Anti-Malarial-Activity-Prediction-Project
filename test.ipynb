{
 "cells": [
  {
   "cell_type": "code",
   "execution_count": 1,
   "id": "ad5340cc",
   "metadata": {},
   "outputs": [
    {
     "name": "stdout",
     "output_type": "stream",
     "text": [
      "Hello Shadrach\n"
     ]
    }
   ],
   "source": [
    "print(\"Hello Shadrach\")\n",
    "import rdkit"
   ]
  },
  {
   "cell_type": "code",
   "execution_count": 3,
   "id": "c1ede206",
   "metadata": {},
   "outputs": [
    {
     "name": "stdout",
     "output_type": "stream",
     "text": [
      "c:\\Users\\shadr\\OneDrive\\Desktop\\DIPLOMA\\Antimalaria_Machine_Learning\\Anti-Malarial-Activity-Prediction-Project\\.venv\\Scripts\\python.exe\n"
     ]
    }
   ],
   "source": [
    "import sys\n",
    "print(sys.executable)\n"
   ]
  },
  {
   "cell_type": "code",
   "execution_count": 5,
   "id": "a70ade0f",
   "metadata": {},
   "outputs": [
    {
     "name": "stdout",
     "output_type": "stream",
     "text": [
      "Collecting seaborn\n",
      "  Using cached seaborn-0.13.2-py3-none-any.whl.metadata (5.4 kB)\n",
      "Requirement already satisfied: numpy!=1.24.0,>=1.20 in c:\\users\\shadr\\onedrive\\desktop\\diploma\\antimalaria_machine_learning\\anti-malarial-activity-prediction-project\\.venv\\lib\\site-packages (from seaborn) (2.2.5)\n",
      "Requirement already satisfied: pandas>=1.2 in c:\\users\\shadr\\onedrive\\desktop\\diploma\\antimalaria_machine_learning\\anti-malarial-activity-prediction-project\\.venv\\lib\\site-packages (from seaborn) (2.2.3)\n",
      "Collecting matplotlib!=3.6.1,>=3.4 (from seaborn)\n",
      "  Using cached matplotlib-3.10.1-cp312-cp312-win_amd64.whl.metadata (11 kB)\n",
      "Collecting contourpy>=1.0.1 (from matplotlib!=3.6.1,>=3.4->seaborn)\n",
      "  Using cached contourpy-1.3.2-cp312-cp312-win_amd64.whl.metadata (5.5 kB)\n",
      "Collecting cycler>=0.10 (from matplotlib!=3.6.1,>=3.4->seaborn)\n",
      "  Using cached cycler-0.12.1-py3-none-any.whl.metadata (3.8 kB)\n",
      "Requirement already satisfied: fonttools>=4.22.0 in c:\\users\\shadr\\onedrive\\desktop\\diploma\\antimalaria_machine_learning\\anti-malarial-activity-prediction-project\\.venv\\lib\\site-packages (from matplotlib!=3.6.1,>=3.4->seaborn) (4.57.0)\n",
      "Requirement already satisfied: kiwisolver>=1.3.1 in c:\\users\\shadr\\onedrive\\desktop\\diploma\\antimalaria_machine_learning\\anti-malarial-activity-prediction-project\\.venv\\lib\\site-packages (from matplotlib!=3.6.1,>=3.4->seaborn) (1.4.8)\n",
      "Requirement already satisfied: packaging>=20.0 in c:\\users\\shadr\\onedrive\\desktop\\diploma\\antimalaria_machine_learning\\anti-malarial-activity-prediction-project\\.venv\\lib\\site-packages (from matplotlib!=3.6.1,>=3.4->seaborn) (24.2)\n",
      "Requirement already satisfied: pillow>=8 in c:\\users\\shadr\\onedrive\\desktop\\diploma\\antimalaria_machine_learning\\anti-malarial-activity-prediction-project\\.venv\\lib\\site-packages (from matplotlib!=3.6.1,>=3.4->seaborn) (11.2.1)\n",
      "Requirement already satisfied: pyparsing>=2.3.1 in c:\\users\\shadr\\onedrive\\desktop\\diploma\\antimalaria_machine_learning\\anti-malarial-activity-prediction-project\\.venv\\lib\\site-packages (from matplotlib!=3.6.1,>=3.4->seaborn) (3.2.3)\n",
      "Requirement already satisfied: python-dateutil>=2.7 in c:\\users\\shadr\\onedrive\\desktop\\diploma\\antimalaria_machine_learning\\anti-malarial-activity-prediction-project\\.venv\\lib\\site-packages (from matplotlib!=3.6.1,>=3.4->seaborn) (2.9.0.post0)\n",
      "Requirement already satisfied: pytz>=2020.1 in c:\\users\\shadr\\onedrive\\desktop\\diploma\\antimalaria_machine_learning\\anti-malarial-activity-prediction-project\\.venv\\lib\\site-packages (from pandas>=1.2->seaborn) (2025.2)\n",
      "Requirement already satisfied: tzdata>=2022.7 in c:\\users\\shadr\\onedrive\\desktop\\diploma\\antimalaria_machine_learning\\anti-malarial-activity-prediction-project\\.venv\\lib\\site-packages (from pandas>=1.2->seaborn) (2025.2)\n",
      "Requirement already satisfied: six>=1.5 in c:\\users\\shadr\\onedrive\\desktop\\diploma\\antimalaria_machine_learning\\anti-malarial-activity-prediction-project\\.venv\\lib\\site-packages (from python-dateutil>=2.7->matplotlib!=3.6.1,>=3.4->seaborn) (1.17.0)\n",
      "Using cached seaborn-0.13.2-py3-none-any.whl (294 kB)\n",
      "Using cached matplotlib-3.10.1-cp312-cp312-win_amd64.whl (8.1 MB)\n",
      "Using cached contourpy-1.3.2-cp312-cp312-win_amd64.whl (223 kB)\n",
      "Using cached cycler-0.12.1-py3-none-any.whl (8.3 kB)\n",
      "Installing collected packages: cycler, contourpy, matplotlib, seaborn\n",
      "\n",
      "   ---------- ----------------------------- 1/4 [contourpy]\n",
      "   ---------- ----------------------------- 1/4 [contourpy]\n",
      "   ---------- ----------------------------- 1/4 [contourpy]\n",
      "   -------------------- ------------------- 2/4 [matplotlib]\n",
      "   -------------------- ------------------- 2/4 [matplotlib]\n",
      "   -------------------- ------------------- 2/4 [matplotlib]\n",
      "   -------------------- ------------------- 2/4 [matplotlib]\n",
      "   -------------------- ------------------- 2/4 [matplotlib]\n",
      "   -------------------- ------------------- 2/4 [matplotlib]\n",
      "   -------------------- ------------------- 2/4 [matplotlib]\n",
      "   -------------------- ------------------- 2/4 [matplotlib]\n",
      "   -------------------- ------------------- 2/4 [matplotlib]\n",
      "   -------------------- ------------------- 2/4 [matplotlib]\n",
      "   -------------------- ------------------- 2/4 [matplotlib]\n",
      "   -------------------- ------------------- 2/4 [matplotlib]\n",
      "   -------------------- ------------------- 2/4 [matplotlib]\n",
      "   -------------------- ------------------- 2/4 [matplotlib]\n",
      "   -------------------- ------------------- 2/4 [matplotlib]\n",
      "   -------------------- ------------------- 2/4 [matplotlib]\n",
      "   -------------------- ------------------- 2/4 [matplotlib]\n",
      "   -------------------- ------------------- 2/4 [matplotlib]\n",
      "   -------------------- ------------------- 2/4 [matplotlib]\n",
      "   -------------------- ------------------- 2/4 [matplotlib]\n",
      "   -------------------- ------------------- 2/4 [matplotlib]\n",
      "   -------------------- ------------------- 2/4 [matplotlib]\n",
      "   -------------------- ------------------- 2/4 [matplotlib]\n",
      "   -------------------- ------------------- 2/4 [matplotlib]\n",
      "   -------------------- ------------------- 2/4 [matplotlib]\n",
      "   -------------------- ------------------- 2/4 [matplotlib]\n",
      "   -------------------- ------------------- 2/4 [matplotlib]\n",
      "   -------------------- ------------------- 2/4 [matplotlib]\n",
      "   -------------------- ------------------- 2/4 [matplotlib]\n",
      "   -------------------- ------------------- 2/4 [matplotlib]\n",
      "   -------------------- ------------------- 2/4 [matplotlib]\n",
      "   -------------------- ------------------- 2/4 [matplotlib]\n",
      "   -------------------- ------------------- 2/4 [matplotlib]\n",
      "   -------------------- ------------------- 2/4 [matplotlib]\n",
      "   -------------------- ------------------- 2/4 [matplotlib]\n",
      "   -------------------- ------------------- 2/4 [matplotlib]\n",
      "   -------------------- ------------------- 2/4 [matplotlib]\n",
      "   -------------------- ------------------- 2/4 [matplotlib]\n",
      "   -------------------- ------------------- 2/4 [matplotlib]\n",
      "   -------------------- ------------------- 2/4 [matplotlib]\n",
      "   -------------------- ------------------- 2/4 [matplotlib]\n",
      "   -------------------- ------------------- 2/4 [matplotlib]\n",
      "   -------------------- ------------------- 2/4 [matplotlib]\n",
      "   -------------------- ------------------- 2/4 [matplotlib]\n",
      "   -------------------- ------------------- 2/4 [matplotlib]\n",
      "   -------------------- ------------------- 2/4 [matplotlib]\n",
      "   -------------------- ------------------- 2/4 [matplotlib]\n",
      "   -------------------- ------------------- 2/4 [matplotlib]\n",
      "   -------------------- ------------------- 2/4 [matplotlib]\n",
      "   -------------------- ------------------- 2/4 [matplotlib]\n",
      "   -------------------- ------------------- 2/4 [matplotlib]\n",
      "   -------------------- ------------------- 2/4 [matplotlib]\n",
      "   -------------------- ------------------- 2/4 [matplotlib]\n",
      "   -------------------- ------------------- 2/4 [matplotlib]\n",
      "   -------------------- ------------------- 2/4 [matplotlib]\n",
      "   -------------------- ------------------- 2/4 [matplotlib]\n",
      "   -------------------- ------------------- 2/4 [matplotlib]\n",
      "   -------------------- ------------------- 2/4 [matplotlib]\n",
      "   -------------------- ------------------- 2/4 [matplotlib]\n",
      "   -------------------- ------------------- 2/4 [matplotlib]\n",
      "   -------------------- ------------------- 2/4 [matplotlib]\n",
      "   -------------------- ------------------- 2/4 [matplotlib]\n",
      "   -------------------- ------------------- 2/4 [matplotlib]\n",
      "   -------------------- ------------------- 2/4 [matplotlib]\n",
      "   -------------------- ------------------- 2/4 [matplotlib]\n",
      "   ------------------------------ --------- 3/4 [seaborn]\n",
      "   ------------------------------ --------- 3/4 [seaborn]\n",
      "   ------------------------------ --------- 3/4 [seaborn]\n",
      "   ------------------------------ --------- 3/4 [seaborn]\n",
      "   ------------------------------ --------- 3/4 [seaborn]\n",
      "   ------------------------------ --------- 3/4 [seaborn]\n",
      "   ------------------------------ --------- 3/4 [seaborn]\n",
      "   ------------------------------ --------- 3/4 [seaborn]\n",
      "   ------------------------------ --------- 3/4 [seaborn]\n",
      "   ------------------------------ --------- 3/4 [seaborn]\n",
      "   ------------------------------ --------- 3/4 [seaborn]\n",
      "   ------------------------------ --------- 3/4 [seaborn]\n",
      "   ---------------------------------------- 4/4 [seaborn]\n",
      "\n",
      "Successfully installed contourpy-1.3.2 cycler-0.12.1 matplotlib-3.10.1 seaborn-0.13.2\n",
      "Note: you may need to restart the kernel to use updated packages.\n"
     ]
    }
   ],
   "source": [
    "%pip install seaborn"
   ]
  },
  {
   "cell_type": "code",
   "execution_count": 1,
   "id": "b45d324b",
   "metadata": {},
   "outputs": [],
   "source": [
    "import seaborn"
   ]
  }
 ],
 "metadata": {
  "kernelspec": {
   "display_name": ".venv",
   "language": "python",
   "name": "python3"
  },
  "language_info": {
   "codemirror_mode": {
    "name": "ipython",
    "version": 3
   },
   "file_extension": ".py",
   "mimetype": "text/x-python",
   "name": "python",
   "nbconvert_exporter": "python",
   "pygments_lexer": "ipython3",
   "version": "3.12.8"
  }
 },
 "nbformat": 4,
 "nbformat_minor": 5
}
