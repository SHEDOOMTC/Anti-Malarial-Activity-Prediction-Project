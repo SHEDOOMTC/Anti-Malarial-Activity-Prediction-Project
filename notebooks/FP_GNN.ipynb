{
 "cells": [
  {
   "cell_type": "code",
   "execution_count": 1,
   "id": "b3ffbef6",
   "metadata": {},
   "outputs": [
    {
     "ename": "ModuleNotFoundError",
     "evalue": "No module named 'torch'",
     "output_type": "error",
     "traceback": [
      "\u001b[1;31m---------------------------------------------------------------------------\u001b[0m",
      "\u001b[1;31mModuleNotFoundError\u001b[0m                       Traceback (most recent call last)",
      "Cell \u001b[1;32mIn[1], line 5\u001b[0m\n\u001b[0;32m      3\u001b[0m \u001b[38;5;28;01mfrom\u001b[39;00m\u001b[38;5;250m \u001b[39m\u001b[38;5;21;01mrdkit\u001b[39;00m\u001b[38;5;21;01m.\u001b[39;00m\u001b[38;5;21;01mChem\u001b[39;00m\u001b[38;5;250m \u001b[39m\u001b[38;5;28;01mimport\u001b[39;00m MACCSkeys\n\u001b[0;32m      4\u001b[0m \u001b[38;5;28;01mfrom\u001b[39;00m\u001b[38;5;250m \u001b[39m\u001b[38;5;21;01mrdkit\u001b[39;00m\u001b[38;5;250m \u001b[39m\u001b[38;5;28;01mimport\u001b[39;00m DataStructs\n\u001b[1;32m----> 5\u001b[0m \u001b[38;5;28;01mimport\u001b[39;00m\u001b[38;5;250m \u001b[39m\u001b[38;5;21;01mtorch\u001b[39;00m\n\u001b[0;32m      6\u001b[0m \u001b[38;5;28;01mimport\u001b[39;00m\u001b[38;5;250m \u001b[39m\u001b[38;5;21;01mnumpy\u001b[39;00m\u001b[38;5;250m \u001b[39m\u001b[38;5;28;01mas\u001b[39;00m\u001b[38;5;250m \u001b[39m\u001b[38;5;21;01mnp\u001b[39;00m\n\u001b[0;32m      8\u001b[0m \u001b[38;5;28;01mimport\u001b[39;00m\u001b[38;5;250m \u001b[39m\u001b[38;5;21;01mtorch\u001b[39;00m\n",
      "\u001b[1;31mModuleNotFoundError\u001b[0m: No module named 'torch'"
     ]
    }
   ],
   "source": [
    "import pandas as pd\n",
    "from rdkit import Chem\n",
    "from rdkit.Chem import MACCSkeys\n",
    "from rdkit import DataStructs\n",
    "import torch\n",
    "import numpy as np\n",
    "\n",
    "import torch\n",
    "from fpgnn import FP_GNN  # Assuming the model class is named FP_GNN in the repo\n",
    "from data_utils import load_data  # Hypothetical data loading function\n",
    "from train_utils import train_model, evaluate_model  # Hypothetical training functions"
   ]
  },
  {
   "cell_type": "code",
   "execution_count": null,
   "id": "31a6720a",
   "metadata": {},
   "outputs": [],
   "source": [
    "### generate graphs and fingerprints (not Morgan)\n",
    "\n",
    "def mol_to_graph_and_fp_from_csv(csv_path, smiles_col='canonical_smiles'):\n",
    "    \"\"\"\n",
    "    Reads a CSV with a column of SMILES strings, converts to molecular graphs and fingerprints.\n",
    "    Args:\n",
    "      csv_path (str): Path to the CSV file.\n",
    "      smiles_col (str): Name of the column containing SMILES strings.\n",
    "    Returns:\n",
    "      graphs (list of dict): Each dict has 'atom_features' (tensor) and 'adjacency' (tensor).\n",
    "      fps (np.ndarray): Fingerprint array (e.g., MACCS keys).\n",
    "      labels (np.ndarray or list): Labels if present in CSV (assumed in 'label' column).\n",
    "    \"\"\"\n",
    "    df = pd.read_csv(csv_path)\n",
    "    smiles_list = df[smiles_col].tolist()\n",
    "\n",
    "    graphs = []\n",
    "    fps = []\n",
    "\n",
    "    for smi in smiles_list:\n",
    "        mol = Chem.MolFromSmiles(smi)\n",
    "        if mol is None:\n",
    "            # Skip invalid molecules\n",
    "            continue\n",
    "        mol = Chem.AddHs(mol)  # Add explicit hydrogens\n",
    "\n",
    "        # Atom features: atomic number as a simple feature (can be expanded)\n",
    "        atom_features = []\n",
    "        for atom in mol.GetAtoms():\n",
    "            atom_features.append([atom.GetAtomicNum()])\n",
    "        atom_features = torch.tensor(atom_features, dtype=torch.float)\n",
    "\n",
    "        # Adjacency matrix\n",
    "        adj = Chem.GetAdjacencyMatrix(mol)\n",
    "        adj = torch.tensor(adj, dtype=torch.float)\n",
    "\n",
    "        graphs.append({'atom_features': atom_features, 'adjacency': adj})\n",
    "\n",
    "        # Generate MACCS keys fingerprint (166 bits)\n",
    "        fp = MACCSkeys.GenMACCSKeys(mol)\n",
    "        arr = np.zeros((166,), dtype=np.int8)\n",
    "        DataStructs.ConvertToNumpyArray(fp, arr)\n",
    "        fps.append(arr)\n",
    "\n",
    "    fps = np.array(fps)\n",
    "\n",
    "    # Extract labels if available\n",
    "    labels = None\n",
    "    if 'label' in df.columns:\n",
    "        labels = df['label'].values\n",
    "\n",
    "    return graphs, fps, labels\n",
    "\n",
    "# Example usage:\n",
    "csv_file = 'your_dataset.csv'\n",
    "graphs, fps, labels = mol_to_graph_and_fp_from_csv(csv_file)\n",
    "\n",
    "print(f\"Processed {len(graphs)} molecules\")\n",
    "print(f\"Fingerprint shape: {fps.shape}\")\n",
    "if labels is not None:\n",
    "    print(f\"Labels shape: {labels.shape}\")\n"
   ]
  },
  {
   "cell_type": "code",
   "execution_count": null,
   "id": "ed91b5e0",
   "metadata": {},
   "outputs": [],
   "source": [
    "\n",
    "\n",
    "# Load your dataset (molecular graphs + fingerprints + labels)\n",
    "train_data, val_data, test_data = load_data('your_dataset_path')\n",
    "\n",
    "# Initialize model\n",
    "model = FP_GNN(input_dim=train_data.feature_dim, hidden_dim=256, output_dim=train_data.num_classes)\n",
    "\n",
    "# Define optimizer and loss\n",
    "optimizer = torch.optim.Adam(model.parameters(), lr=0.001)\n",
    "criterion = torch.nn.CrossEntropyLoss()\n",
    "\n",
    "# Training loop\n",
    "num_epochs = 100\n",
    "for epoch in range(num_epochs):\n",
    "    model.train()\n",
    "    train_loss = train_model(model, train_data, optimizer, criterion)\n",
    "    val_acc = evaluate_model(model, val_data)\n",
    "    print(f\"Epoch {epoch+1}/{num_epochs}, Loss: {train_loss:.4f}, Val Acc: {val_acc:.4f}\")\n",
    "\n",
    "# Test evaluation\n",
    "test_acc = evaluate_model(model, test_data)\n",
    "print(f\"Test Accuracy: {test_acc:.4f}\")\n"
   ]
  }
 ],
 "metadata": {
  "kernelspec": {
   "display_name": "Python 3",
   "language": "python",
   "name": "python3"
  },
  "language_info": {
   "codemirror_mode": {
    "name": "ipython",
    "version": 3
   },
   "file_extension": ".py",
   "mimetype": "text/x-python",
   "name": "python",
   "nbconvert_exporter": "python",
   "pygments_lexer": "ipython3",
   "version": "3.12.8"
  }
 },
 "nbformat": 4,
 "nbformat_minor": 5
}
